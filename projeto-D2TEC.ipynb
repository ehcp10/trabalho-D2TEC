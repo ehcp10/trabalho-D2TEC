{
 "cells": [
  {
   "cell_type": "code",
   "execution_count": 1,
   "id": "918065fa-aa88-465a-87cb-82edd7181713",
   "metadata": {},
   "outputs": [
    {
     "name": "stdout",
     "output_type": "stream",
     "text": [
      "Requirement already satisfied: mysql-connector-python in /home/evandrocouto/pos/D2APR/d2apr/lib/python3.9/site-packages (8.0.26)\n",
      "Requirement already satisfied: protobuf>=3.0.0 in /home/evandrocouto/pos/D2APR/d2apr/lib/python3.9/site-packages (from mysql-connector-python) (3.18.0)\n",
      "Note: you may need to restart the kernel to use updated packages.\n"
     ]
    }
   ],
   "source": [
    "%pip install mysql-connector-python"
   ]
  },
  {
   "cell_type": "code",
   "execution_count": 2,
   "id": "068acbdc-7d3f-4bcc-af0c-e81545084d5c",
   "metadata": {},
   "outputs": [],
   "source": [
    "import pandas as pd\n",
    "import matplotlib.pyplot as plt\n",
    "import mysql.connector as sql"
   ]
  },
  {
   "cell_type": "markdown",
   "id": "0566f297-b5a3-45eb-adbd-ef77d92f92b5",
   "metadata": {},
   "source": [
    "# Projeto do D2TEC"
   ]
  },
  {
   "cell_type": "markdown",
   "id": "5efeff68-0f27-4721-a815-24f14fa82c1a",
   "metadata": {},
   "source": [
    "## Equipe\n",
    "<p>Evandro Henrique Couto de Paula</p>\n",
    "<p>Jessica Oliveira</p>"
   ]
  },
  {
   "cell_type": "markdown",
   "id": "bc084174-98d8-4ef1-9710-4ef35fcd16c1",
   "metadata": {},
   "source": [
    "## Descrição do projeto\n",
    "\n",
    "<p>O trabalho trata de um banco de dados sobre jogos virtuais lançados desde os anos 80 até 2016.</p>\n",
    "<p>O banco guarda dados de identificação dos jogos, dados de avaliação da crítica especializada e usuários, quando este existe para o game em questão, também a número das vendas nas diferentes regiões do mundo.</p>"
   ]
  },
  {
   "cell_type": "markdown",
   "id": "dc571d06-5867-4506-b91a-ac89f9e9dd71",
   "metadata": {},
   "source": [
    "## Modelo ER"
   ]
  },
  {
   "cell_type": "markdown",
   "id": "2cfc0e3a-35ae-4de0-8794-8aba71c35a1f",
   "metadata": {},
   "source": [
    "![title](modelo-er.png)"
   ]
  },
  {
   "cell_type": "markdown",
   "id": "c15ad297-1986-44d9-82b8-237cda33e795",
   "metadata": {},
   "source": [
    "## Buscas\n",
    "### Conexão ao banco de dados"
   ]
  },
  {
   "cell_type": "code",
   "execution_count": 33,
   "id": "c8786c07-9e57-4969-8baa-a6bc4302f2c7",
   "metadata": {},
   "outputs": [],
   "source": [
    "db_connection = sql.connect(host='localhost', database='games', user='root', password='123456', port=3303)\n",
    "db_cursor = db_connection.cursor()"
   ]
  },
  {
   "cell_type": "markdown",
   "id": "840bb9c6-c40f-47c4-8db2-8f31bc73221e",
   "metadata": {},
   "source": [
    "#### Qual publisher publicou mais jogos?"
   ]
  },
  {
   "cell_type": "code",
   "execution_count": 34,
   "id": "4a69a983-6cf1-4293-aa93-75e57aee9f15",
   "metadata": {},
   "outputs": [
    {
     "name": "stdout",
     "output_type": "stream",
     "text": [
      "('Wii Sports', 2006, 'Nintendo')\n",
      "('Super Mario Bros.', 1985, 'Nintendo')\n",
      "('Mario Kart Wii', 2008, 'Nintendo')\n",
      "('Wii Sports Resort', 2009, 'Nintendo')\n",
      "('Pokemon Red/Pokemon Blue', 1996, 'Nintendo')\n",
      "('Tetris', 1989, 'Nintendo')\n",
      "('New Super Mario Bros.', 2006, 'Nintendo')\n",
      "('Wii Play', 2006, 'Nintendo')\n",
      "('New Super Mario Bros. Wii', 2009, 'Nintendo')\n",
      "('Duck Hunt', 1984, 'Nintendo')\n"
     ]
    }
   ],
   "source": [
    "pub_query = (\"SELECT g.nome, g.ano_lancamento, p.nome FROM game g INNER JOIN publisher p ON p.id = g.publisher  LIMIT 10\")\n",
    "db_cursor.execute(pub_query)\n",
    "for result in db_cursor:\n",
    "    print(result)\n"
   ]
  },
  {
   "cell_type": "markdown",
   "id": "7768c83e-cc39-4141-a86d-d9a7e73f868f",
   "metadata": {},
   "source": [
    "#### Em quais anos mais jogos foram produzidos?"
   ]
  },
  {
   "cell_type": "code",
   "execution_count": 46,
   "id": "20d01b38-b047-452c-b512-9f95ea3aeefd",
   "metadata": {},
   "outputs": [
    {
     "name": "stdout",
     "output_type": "stream",
     "text": [
      "ANO DE LANÇAMENTO: 2009 QUANTIDADE DE GAMES PRODUZIDOS: 1426\n",
      "ANO DE LANÇAMENTO: 2008 QUANTIDADE DE GAMES PRODUZIDOS: 1425\n",
      "ANO DE LANÇAMENTO: 2010 QUANTIDADE DE GAMES PRODUZIDOS: 1253\n",
      "ANO DE LANÇAMENTO: 2007 QUANTIDADE DE GAMES PRODUZIDOS: 1197\n",
      "ANO DE LANÇAMENTO: 2011 QUANTIDADE DE GAMES PRODUZIDOS: 1136\n",
      "ANO DE LANÇAMENTO: 2006 QUANTIDADE DE GAMES PRODUZIDOS: 1003\n",
      "ANO DE LANÇAMENTO: 2005 QUANTIDADE DE GAMES PRODUZIDOS: 938\n",
      "ANO DE LANÇAMENTO: 2002 QUANTIDADE DE GAMES PRODUZIDOS: 829\n",
      "ANO DE LANÇAMENTO: 2003 QUANTIDADE DE GAMES PRODUZIDOS: 774\n",
      "ANO DE LANÇAMENTO: 2004 QUANTIDADE DE GAMES PRODUZIDOS: 762\n"
     ]
    }
   ],
   "source": [
    "pub_query = (\"SELECT g.ano_lancamento, count(g.ano_lancamento) as lancamentos FROM game g GROUP BY g.ano_lancamento ORDER BY lancamentos DESC LIMIT 10\")\n",
    "db_cursor.execute(pub_query)\n",
    "for result in db_cursor:\n",
    "    print(\"ANO DE LANÇAMENTO: {} QUANTIDADE DE GAMES PRODUZIDOS: {}\".format(result[0], result[1]))\n",
    "\n"
   ]
  },
  {
   "cell_type": "markdown",
   "id": "0d7c6ed2-d50d-4389-a287-9302b9a1d7d0",
   "metadata": {},
   "source": [
    "#### QUAL O GENERO DOS JOGOS MAIS VENDIDOS?"
   ]
  },
  {
   "cell_type": "code",
   "execution_count": 45,
   "id": "0b77da4a-059c-4f79-a992-e1a3f27905ec",
   "metadata": {},
   "outputs": [
    {
     "name": "stdout",
     "output_type": "stream",
     "text": [
      "JOGO: Wii Sports GENERO: Sports\n",
      "JOGO: Super Mario Bros. GENERO: Platform\n",
      "JOGO: Mario Kart Wii GENERO: Racing\n",
      "JOGO: Wii Sports Resort GENERO: Sports\n",
      "JOGO: Pokemon Red/Pokemon Blue GENERO: Role-Playing\n",
      "JOGO: Tetris GENERO: Puzzle\n",
      "JOGO: New Super Mario Bros. GENERO: Platform\n",
      "JOGO: Wii Play GENERO: Misc\n",
      "JOGO: New Super Mario Bros. Wii GENERO: Platform\n",
      "JOGO: Duck Hunt GENERO: Shooter\n"
     ]
    }
   ],
   "source": [
    "pub_query = (\"SELECT t.nome, g.nome FROM genero g INNER JOIN (SELECT g.nome, g.genero FROM game g INNER JOIN vendas_global vg ON vg.game = g.id ORDER BY vg.quantidade DESC LIMIT 10) as t ON t.genero = g.id;\")\n",
    "db_cursor.execute(pub_query)\n",
    "for result in db_cursor:\n",
    "    print(\"JOGO: {} GENERO: {}\".format(result[0], result[1]))\n"
   ]
  },
  {
   "cell_type": "markdown",
   "id": "f89ef2d0-5dd2-43c1-9de1-626b703ec3f8",
   "metadata": {},
   "source": [
    "#### QUAL O GENERO DE JOGOS MAIS PRODUZIDO?"
   ]
  },
  {
   "cell_type": "code",
   "execution_count": 39,
   "id": "506ad5e3-674f-4a8f-b7ef-c29575292f64",
   "metadata": {},
   "outputs": [
    {
     "name": "stdout",
     "output_type": "stream",
     "text": [
      "Genero: Action, Quantidade de games produzidos: 3367\n",
      "Genero: Sports, Quantidade de games produzidos: 2348\n",
      "Genero: Misc, Quantidade de games produzidos: 1743\n",
      "Genero: Role-Playing, Quantidade de games produzidos: 1499\n",
      "Genero: Shooter, Quantidade de games produzidos: 1323\n",
      "Genero: Adventure, Quantidade de games produzidos: 1301\n",
      "Genero: Racing, Quantidade de games produzidos: 1249\n",
      "Genero: Platform, Quantidade de games produzidos: 888\n",
      "Genero: Simulation, Quantidade de games produzidos: 874\n",
      "Genero: Fighting, Quantidade de games produzidos: 849\n",
      "Genero: Strategy, Quantidade de games produzidos: 683\n",
      "Genero: Puzzle, Quantidade de games produzidos: 580\n",
      "Genero: N/D, Quantidade de games produzidos: 2\n"
     ]
    }
   ],
   "source": [
    "pub_query = (\"SELECT gd.nome, count(genero) as quantidade_produzida FROM game g LEFT JOIN genero gd ON gd.id = g.genero GROUP BY g.genero ORDER BY quantidade_produzida DESC;\")\n",
    "db_cursor.execute(pub_query)\n",
    "for result in db_cursor:\n",
    "    print(\"Genero: {}, Quantidade de games produzidos: {}\". format(result[0], result[1]))\n"
   ]
  },
  {
   "cell_type": "markdown",
   "id": "6b4026e5-ae9e-4efe-af84-d2541483d1ba",
   "metadata": {},
   "source": [
    "#### QUAL OS JOGOS MAIS VENDIDOS NOS EUA?"
   ]
  },
  {
   "cell_type": "code",
   "execution_count": 48,
   "id": "6ff70076-7620-4cfa-86f0-3156164dac2a",
   "metadata": {},
   "outputs": [
    {
     "name": "stdout",
     "output_type": "stream",
     "text": [
      "O jogo Wii Sports lançado em 2006 vendeu 41360000 de cópias\n",
      "O jogo Super Mario Bros. lançado em 1985 vendeu 29080000 de cópias\n",
      "O jogo Duck Hunt lançado em 1984 vendeu 26930000 de cópias\n",
      "O jogo Tetris lançado em 1989 vendeu 23200000 de cópias\n",
      "O jogo Mario Kart Wii lançado em 2008 vendeu 15680000 de cópias\n",
      "O jogo Wii Sports Resort lançado em 2009 vendeu 15610000 de cópias\n",
      "O jogo Kinect Adventures! lançado em 2010 vendeu 15000000 de cópias\n",
      "O jogo New Super Mario Bros. Wii lançado em 2009 vendeu 14440000 de cópias\n",
      "O jogo Wii Play lançado em 2006 vendeu 13960000 de cópias\n",
      "O jogo Super Mario World lançado em 1990 vendeu 12780000 de cópias\n"
     ]
    }
   ],
   "source": [
    "pub_query = (\"SELECT g.nome, g.ano_lancamento, vu.quantidade FROM game g INNER JOIN vendas_eua vu ON vu.game = g.id ORDER BY vu.quantidade DESC LIMIT 10;\")\n",
    "db_cursor.execute(pub_query)\n",
    "for result in db_cursor:\n",
    "    print(\"O jogo {} lançado em {} vendeu {} de cópias\". format(result[0], result[1], result[2]))\n"
   ]
  },
  {
   "cell_type": "markdown",
   "id": "ff4d6dae-3e16-4f72-bbee-be17101282fd",
   "metadata": {},
   "source": [
    "#### QUAL OS JOGOS MAIS VENDIDOS NO JAPÃO?"
   ]
  },
  {
   "cell_type": "code",
   "execution_count": null,
   "id": "f7ce01e3-dc3f-4f22-8489-fb0e6a03e401",
   "metadata": {},
   "outputs": [],
   "source": [
    "pub_query = (\"SELECT g.nome, g.ano_lancamento, vj.quantidade FROM game g INNER JOIN vendas_japao vj ON vj.game = g.id ORDER BY vj.quantidade DESC LIMIT 10;\")\n",
    "db_cursor.execute(pub_query)\n",
    "for result in db_cursor:\n",
    "    print(\"O jogo {} lançado em {} vendeu {} de cópias\". format(result[0], result[1], result[2]))\n"
   ]
  },
  {
   "cell_type": "markdown",
   "id": "9d3b82f4-f602-445e-80d4-0fef9b4824c8",
   "metadata": {},
   "source": [
    "### QUAL OS JOGOS MAIS VENDIDOS NOS MUNDIALMENTE?"
   ]
  },
  {
   "cell_type": "code",
   "execution_count": 49,
   "id": "88a682dc-0372-4bc3-921c-535d1a3088ab",
   "metadata": {},
   "outputs": [
    {
     "name": "stdout",
     "output_type": "stream",
     "text": [
      "O jogo Wii Sports lançado em 2006 vendeu 82530000 de cópias\n",
      "O jogo Super Mario Bros. lançado em 1985 vendeu 40240000 de cópias\n",
      "O jogo Mario Kart Wii lançado em 2008 vendeu 35520000 de cópias\n",
      "O jogo Wii Sports Resort lançado em 2009 vendeu 32770000 de cópias\n",
      "O jogo Pokemon Red/Pokemon Blue lançado em 1996 vendeu 31370000 de cópias\n",
      "O jogo Tetris lançado em 1989 vendeu 30260000 de cópias\n",
      "O jogo New Super Mario Bros. lançado em 2006 vendeu 29800000 de cópias\n",
      "O jogo Wii Play lançado em 2006 vendeu 28920000 de cópias\n",
      "O jogo New Super Mario Bros. Wii lançado em 2009 vendeu 28320000 de cópias\n",
      "O jogo Duck Hunt lançado em 1984 vendeu 28310000 de cópias\n"
     ]
    }
   ],
   "source": [
    "pub_query = (\"SELECT g.nome, g.ano_lancamento, vg.quantidade FROM game g INNER JOIN vendas_global vg ON vg.game = g.id ORDER BY vg.quantidade DESC LIMIT 10;\")\n",
    "db_cursor.execute(pub_query)\n",
    "for result in db_cursor:\n",
    "    print(\"O jogo {} lançado em {} vendeu {} de cópias\". format(result[0], result[1], result[2]))"
   ]
  },
  {
   "cell_type": "markdown",
   "id": "526e5352-6d7b-4459-bd1d-27ab2a0ee048",
   "metadata": {},
   "source": [
    "#### QUAL OS JOGOS MAIS BEM AVALIADOS PELOS CRÍTICOS?"
   ]
  },
  {
   "cell_type": "code",
   "execution_count": null,
   "id": "782e4d70-fc84-448f-8298-44ea702a4cb4",
   "metadata": {},
   "outputs": [],
   "source": []
  },
  {
   "cell_type": "markdown",
   "id": "95559e72-aada-4194-87c9-04cc3cc62779",
   "metadata": {},
   "source": [
    "#### QUAL OS JOGOS MAIS BEM AVALIADOS PELOS USUÁRIOS?"
   ]
  },
  {
   "cell_type": "code",
   "execution_count": null,
   "id": "c68965fd-33d9-4d8d-a9b0-00f02eb91023",
   "metadata": {},
   "outputs": [],
   "source": []
  },
  {
   "cell_type": "markdown",
   "id": "c3cc937e-0f32-4384-a8d4-2c812543cc12",
   "metadata": {},
   "source": [
    "#### QUAL A MÉDIA DOS GENEROS MAIS BEM AVALIADOS?"
   ]
  },
  {
   "cell_type": "code",
   "execution_count": null,
   "id": "3e3d7dd1-4d85-4aea-b259-022365760c95",
   "metadata": {},
   "outputs": [],
   "source": []
  },
  {
   "cell_type": "markdown",
   "id": "2e2bb945-3826-4341-9d1e-3a05f2441649",
   "metadata": {},
   "source": [
    "#### QUAL A PLATAFORMA MAIS POPULAR? "
   ]
  },
  {
   "cell_type": "markdown",
   "id": "43094a33-bf6c-46b9-b9fd-8f74d942ff18",
   "metadata": {},
   "source": [
    "## Exibições"
   ]
  }
 ],
 "metadata": {
  "kernelspec": {
   "display_name": "Python 3 (ipykernel)",
   "language": "python",
   "name": "python3"
  },
  "language_info": {
   "codemirror_mode": {
    "name": "ipython",
    "version": 3
   },
   "file_extension": ".py",
   "mimetype": "text/x-python",
   "name": "python",
   "nbconvert_exporter": "python",
   "pygments_lexer": "ipython3",
   "version": "3.9.6"
  }
 },
 "nbformat": 4,
 "nbformat_minor": 5
}
