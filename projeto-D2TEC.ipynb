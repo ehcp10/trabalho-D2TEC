{
 "cells": [
  {
   "cell_type": "code",
   "execution_count": 1,
   "id": "918065fa-aa88-465a-87cb-82edd7181713",
   "metadata": {},
   "outputs": [
    {
     "name": "stdout",
     "output_type": "stream",
     "text": [
      "Requirement already satisfied: mysql-connector-python in /home/evandrocouto/pos/D2APR/d2apr/lib/python3.9/site-packages (8.0.26)\n",
      "Requirement already satisfied: protobuf>=3.0.0 in /home/evandrocouto/pos/D2APR/d2apr/lib/python3.9/site-packages (from mysql-connector-python) (3.18.0)\n",
      "Note: you may need to restart the kernel to use updated packages.\n"
     ]
    }
   ],
   "source": [
    "%pip install mysql-connector-python"
   ]
  },
  {
   "cell_type": "code",
   "execution_count": 2,
   "id": "068acbdc-7d3f-4bcc-af0c-e81545084d5c",
   "metadata": {},
   "outputs": [],
   "source": [
    "import pandas as pd\n",
    "import matplotlib.pyplot as plt\n",
    "import mysql.connector as sql\n",
    "from matplotlib.pyplot import figure"
   ]
  },
  {
   "cell_type": "markdown",
   "id": "0566f297-b5a3-45eb-adbd-ef77d92f92b5",
   "metadata": {},
   "source": [
    "# Projeto do D2TEC"
   ]
  },
  {
   "cell_type": "markdown",
   "id": "5efeff68-0f27-4721-a815-24f14fa82c1a",
   "metadata": {},
   "source": [
    "## Equipe\n",
    "<p>Evandro Henrique Couto de Paula</p>\n",
    "<p>Jessica Oliveira</p>"
   ]
  },
  {
   "cell_type": "markdown",
   "id": "bc084174-98d8-4ef1-9710-4ef35fcd16c1",
   "metadata": {},
   "source": [
    "## Descrição do projeto\n",
    "\n",
    "<p>O trabalho trata de um banco de dados sobre jogos virtuais lançados desde os anos 80 até 2016.</p>\n",
    "<p>O banco guarda dados de identificação dos jogos, dados de avaliação da crítica especializada e usuários, quando este existe para o game em questão, também a número das vendas nas diferentes regiões do mundo.</p>"
   ]
  },
  {
   "cell_type": "markdown",
   "id": "dc571d06-5867-4506-b91a-ac89f9e9dd71",
   "metadata": {},
   "source": [
    "## Modelo ER"
   ]
  },
  {
   "cell_type": "markdown",
   "id": "2cfc0e3a-35ae-4de0-8794-8aba71c35a1f",
   "metadata": {},
   "source": [
    "![title](modelo-er.png)"
   ]
  },
  {
   "cell_type": "markdown",
   "id": "c15ad297-1986-44d9-82b8-237cda33e795",
   "metadata": {},
   "source": [
    "## Buscas\n",
    "### Conexão ao banco de dados"
   ]
  },
  {
   "cell_type": "code",
   "execution_count": 3,
   "id": "c8786c07-9e57-4969-8baa-a6bc4302f2c7",
   "metadata": {},
   "outputs": [],
   "source": [
    "# db_connection = sql.connect(host='pos-d2tec.c0ntonsjesil.us-east-1.rds.amazonaws.com', database='games', user='root', password='', port=3306)\n",
    "db_connection = sql.connect(host='localhost', database='games', user='root', password='123456', port=3303)\n",
    "db_cursor = db_connection.cursor()"
   ]
  },
  {
   "cell_type": "markdown",
   "id": "840bb9c6-c40f-47c4-8db2-8f31bc73221e",
   "metadata": {},
   "source": [
    "#### Qual publisher publicou mais jogos?\n",
    "<ul>\n",
    "    <li>Nesta consulta a clasula COUNT realiza a contagem de quantos jogos a produtora publicou</li>\n",
    "    <li>O JOIN é utilizado para carregar as informações da tabela publisher, e para realizar o agrupamento dos valores na tabela dos games é utilizada a clausula GROUP BY e ORDER é utilizado para ordernar a lista em ordem decrescente.</li>\n",
    "    <li>O LIMIT é utilizado apenas para exibir apenas uma pequena amostra da tabela.</li>\n",
    "</ul>"
   ]
  },
  {
   "cell_type": "code",
   "execution_count": 4,
   "id": "4a69a983-6cf1-4293-aa93-75e57aee9f15",
   "metadata": {},
   "outputs": [
    {
     "name": "stdout",
     "output_type": "stream",
     "text": [
      "A poublisher Electronic Arts publicou 1356 jogos\n",
      "A poublisher Activision publicou 985 jogos\n",
      "A poublisher Namco Bandai Games publicou 938 jogos\n",
      "A poublisher Ubisoft publicou 933 jogos\n",
      "A poublisher Konami Digital Entertainment publicou 834 jogos\n",
      "A poublisher THQ publicou 715 jogos\n",
      "A poublisher Nintendo publicou 704 jogos\n",
      "A poublisher Sony Computer Entertainment publicou 686 jogos\n",
      "A poublisher Sega publicou 637 jogos\n",
      "A poublisher Take-Two Interactive publicou 422 jogos\n"
     ]
    }
   ],
   "source": [
    "pub_query = (\"SELECT  p.nome, COUNT(p.id) as jogos_publicados FROM game g INNER JOIN publisher p ON p.id = g.publisher GROUP BY p.nome ORDER BY jogos_publicados DESC LIMIT 10;\")\n",
    "db_cursor.execute(pub_query)\n",
    "for result in db_cursor:\n",
    "     print(\"A poublisher {} publicou {} jogos\".format(result[0], result[1]))\n"
   ]
  },
  {
   "cell_type": "markdown",
   "id": "7768c83e-cc39-4141-a86d-d9a7e73f868f",
   "metadata": {},
   "source": [
    "#### O ano em que mais jogos foram produzidos?\n",
    "<ul>\n",
    "    <li>Nesta consulta a clasula COUNT realiza a contagem de jogos publicados no ano</li>\n",
    "    <li>O GROUP BY e ORDER é utilizado para ordernar a lista em ordem decrescente.</li>\n",
    "    <li>O LIMIT é utilizado apenas para exibir apenas uma pequena amostra da tabela.</li>\n",
    "</ul>"
   ]
  },
  {
   "cell_type": "code",
   "execution_count": 5,
   "id": "20d01b38-b047-452c-b512-9f95ea3aeefd",
   "metadata": {},
   "outputs": [
    {
     "name": "stdout",
     "output_type": "stream",
     "text": [
      "ANO DE LANÇAMENTO: 2009 QUANTIDADE DE GAMES PRODUZIDOS: 1426\n",
      "ANO DE LANÇAMENTO: 2008 QUANTIDADE DE GAMES PRODUZIDOS: 1425\n",
      "ANO DE LANÇAMENTO: 2010 QUANTIDADE DE GAMES PRODUZIDOS: 1253\n",
      "ANO DE LANÇAMENTO: 2007 QUANTIDADE DE GAMES PRODUZIDOS: 1197\n",
      "ANO DE LANÇAMENTO: 2011 QUANTIDADE DE GAMES PRODUZIDOS: 1136\n",
      "ANO DE LANÇAMENTO: 2006 QUANTIDADE DE GAMES PRODUZIDOS: 1003\n",
      "ANO DE LANÇAMENTO: 2005 QUANTIDADE DE GAMES PRODUZIDOS: 938\n",
      "ANO DE LANÇAMENTO: 2002 QUANTIDADE DE GAMES PRODUZIDOS: 829\n",
      "ANO DE LANÇAMENTO: 2003 QUANTIDADE DE GAMES PRODUZIDOS: 774\n",
      "ANO DE LANÇAMENTO: 2004 QUANTIDADE DE GAMES PRODUZIDOS: 762\n"
     ]
    }
   ],
   "source": [
    "pub_query = (\"SELECT g.ano_lancamento, count(g.ano_lancamento) as lancamentos FROM game g GROUP BY g.ano_lancamento ORDER BY lancamentos DESC LIMIT 10\")\n",
    "db_cursor.execute(pub_query)\n",
    "for result in db_cursor:\n",
    "    print(\"ANO DE LANÇAMENTO: {} QUANTIDADE DE GAMES PRODUZIDOS: {}\".format(result[0], result[1]))\n",
    "\n"
   ]
  },
  {
   "cell_type": "markdown",
   "id": "0d7c6ed2-d50d-4389-a287-9302b9a1d7d0",
   "metadata": {},
   "source": [
    "#### QUAL O GENERO DOS JOGOS MAIS VENDIDOS?\n",
    "<ul>\n",
    "    <li>Nesta consulta é realizada u subconsulta onde os dados coletados são os dados dos jogos mais vendidos no mundo e esse resultado é unido ao genero para que possamos exibir qual o genero dos jogos mais vendidos no mundo</li>\n",
    "</ul>"
   ]
  },
  {
   "cell_type": "code",
   "execution_count": 6,
   "id": "0b77da4a-059c-4f79-a992-e1a3f27905ec",
   "metadata": {},
   "outputs": [
    {
     "name": "stdout",
     "output_type": "stream",
     "text": [
      "JOGO: Wii Sports GENERO: Sports\n",
      "JOGO: Super Mario Bros. GENERO: Platform\n",
      "JOGO: Mario Kart Wii GENERO: Racing\n",
      "JOGO: Wii Sports Resort GENERO: Sports\n",
      "JOGO: Pokemon Red/Pokemon Blue GENERO: Role-Playing\n",
      "JOGO: Tetris GENERO: Puzzle\n",
      "JOGO: New Super Mario Bros. GENERO: Platform\n",
      "JOGO: Wii Play GENERO: Misc\n",
      "JOGO: New Super Mario Bros. Wii GENERO: Platform\n",
      "JOGO: Duck Hunt GENERO: Shooter\n"
     ]
    }
   ],
   "source": [
    "pub_query = (\"SELECT t.nome, g.nome FROM genero g INNER JOIN (SELECT g.nome, g.genero FROM game g INNER JOIN vendas_global vg ON vg.game = g.id ORDER BY vg.quantidade DESC LIMIT 10) as t ON t.genero = g.id;\")\n",
    "db_cursor.execute(pub_query)\n",
    "for result in db_cursor:\n",
    "    print(\"JOGO: {} GENERO: {}\".format(result[0], result[1]))\n"
   ]
  },
  {
   "cell_type": "markdown",
   "id": "f89ef2d0-5dd2-43c1-9de1-626b703ec3f8",
   "metadata": {},
   "source": [
    "#### QUAL O GENERO DE JOGOS MAIS PRODUZIDO?\n",
    "<ul>\n",
    "    <li>Os JOINS foram utilizados para enriquecer os dados na consulta</li>\n",
    "    <li>O COUNT é utilizado para contar quantas linhas da pesquisa são compatíveis com a condição da busca. Como a agregação limita a uma lista curta dee resultados não foi usada a clusula where</li>\n",
    "</ul>"
   ]
  },
  {
   "cell_type": "code",
   "execution_count": 7,
   "id": "506ad5e3-674f-4a8f-b7ef-c29575292f64",
   "metadata": {},
   "outputs": [
    {
     "name": "stdout",
     "output_type": "stream",
     "text": [
      "Genero: Action, Quantidade de games produzidos: 3367\n",
      "Genero: Sports, Quantidade de games produzidos: 2348\n",
      "Genero: Misc, Quantidade de games produzidos: 1743\n",
      "Genero: Role-Playing, Quantidade de games produzidos: 1499\n",
      "Genero: Shooter, Quantidade de games produzidos: 1323\n",
      "Genero: Adventure, Quantidade de games produzidos: 1301\n",
      "Genero: Racing, Quantidade de games produzidos: 1249\n",
      "Genero: Platform, Quantidade de games produzidos: 888\n",
      "Genero: Simulation, Quantidade de games produzidos: 874\n",
      "Genero: Fighting, Quantidade de games produzidos: 849\n",
      "Genero: Strategy, Quantidade de games produzidos: 683\n",
      "Genero: Puzzle, Quantidade de games produzidos: 580\n",
      "Genero: N/D, Quantidade de games produzidos: 2\n"
     ]
    }
   ],
   "source": [
    "pub_query = (\"SELECT gd.nome, count(genero) as quantidade_produzida FROM game g LEFT JOIN genero gd ON gd.id = g.genero GROUP BY g.genero ORDER BY quantidade_produzida DESC;\")\n",
    "db_cursor.execute(pub_query)\n",
    "for result in db_cursor:\n",
    "    print(\"Genero: {}, Quantidade de games produzidos: {}\". format(result[0], result[1]))\n"
   ]
  },
  {
   "cell_type": "markdown",
   "id": "6b4026e5-ae9e-4efe-af84-d2541483d1ba",
   "metadata": {},
   "source": [
    "#### QUAL OS JOGOS MAIS VENDIDOS NOS EUA?\n",
    "<ul>\n",
    "    <li>Nesta consulta a exibição se trata dos jogos mais vendidos nos EUA, o maior mercado ocidental de jogos</li>\n",
    "</ul>"
   ]
  },
  {
   "cell_type": "code",
   "execution_count": 8,
   "id": "6ff70076-7620-4cfa-86f0-3156164dac2a",
   "metadata": {},
   "outputs": [
    {
     "name": "stdout",
     "output_type": "stream",
     "text": [
      "O jogo Wii Sports lançado em 2006 vendeu 41360000 de cópias\n",
      "O jogo Super Mario Bros. lançado em 1985 vendeu 29080000 de cópias\n",
      "O jogo Duck Hunt lançado em 1984 vendeu 26930000 de cópias\n",
      "O jogo Tetris lançado em 1989 vendeu 23200000 de cópias\n",
      "O jogo Mario Kart Wii lançado em 2008 vendeu 15680000 de cópias\n",
      "O jogo Wii Sports Resort lançado em 2009 vendeu 15610000 de cópias\n",
      "O jogo Kinect Adventures! lançado em 2010 vendeu 15000000 de cópias\n",
      "O jogo New Super Mario Bros. Wii lançado em 2009 vendeu 14440000 de cópias\n",
      "O jogo Wii Play lançado em 2006 vendeu 13960000 de cópias\n",
      "O jogo Super Mario World lançado em 1990 vendeu 12780000 de cópias\n"
     ]
    }
   ],
   "source": [
    "pub_query = (\"SELECT g.nome, g.ano_lancamento, vu.quantidade FROM game g INNER JOIN vendas_eua vu ON vu.game = g.id ORDER BY vu.quantidade DESC LIMIT 10;\")\n",
    "db_cursor.execute(pub_query)\n",
    "for result in db_cursor:\n",
    "    print(\"O jogo {} lançado em {} vendeu {} de cópias\". format(result[0], result[1], result[2]))\n"
   ]
  },
  {
   "cell_type": "markdown",
   "id": "ff4d6dae-3e16-4f72-bbee-be17101282fd",
   "metadata": {},
   "source": [
    "#### QUAL OS JOGOS MAIS VENDIDOS NO JAPÃO QUE NÃO SÃO PUBLICADOS PELA NINTENDO?\n",
    "<p>A nintendo se trata da mais famosa publisher de jogos do japão.</p>\n",
    "<ul>\n",
    "    <li>Nesta consulta o NOT IN foi utilizado para excluir o elemento que foi retornado pela subconsulta</li>\n",
    "</ul>"
   ]
  },
  {
   "cell_type": "code",
   "execution_count": 9,
   "id": "f7ce01e3-dc3f-4f22-8489-fb0e6a03e401",
   "metadata": {},
   "outputs": [
    {
     "name": "stdout",
     "output_type": "stream",
     "text": [
      "O jogo Monster Hunter Freedom 3 lançado em 2010 vendeu 4870000 de cópias\n",
      "O jogo Monster Hunter Freedom Unite lançado em 2008 vendeu 4130000 de cópias\n",
      "O jogo Dragon Quest VII: Warriors of Eden lançado em 2000 vendeu 4100000 de cópias\n",
      "O jogo Dragon Warrior III lançado em 1988 vendeu 3770000 de cópias\n",
      "O jogo Final Fantasy VIII lançado em 1999 vendeu 3630000 de cópias\n",
      "O jogo Dragon Quest VIII: Journey of the Cursed King lançado em 2004 vendeu 3610000 de cópias\n",
      "O jogo Monster Hunter 4 lançado em 2013 vendeu 3440000 de cópias\n",
      "O jogo Final Fantasy VII lançado em 1997 vendeu 3280000 de cópias\n",
      "O jogo Dragon Quest VI: Maboroshi no Daichi lançado em 1995 vendeu 3190000 de cópias\n",
      "O jogo Dragon Warrior IV lançado em 1990 vendeu 3030000 de cópias\n"
     ]
    }
   ],
   "source": [
    "pub_query = (\"SELECT g.nome, g.ano_lancamento, vj.quantidade FROM game g INNER JOIN vendas_japao vj ON vj.game = g.id WHERE publisher NOT IN (SELECT id FROM publisher WHERE nome = 'Nintendo' ) ORDER BY vj.quantidade DESC LIMIT 10;\")\n",
    "db_cursor.execute(pub_query)\n",
    "for result in db_cursor:\n",
    "    print(\"O jogo {} lançado em {} vendeu {} de cópias\". format(result[0], result[1], result[2]))\n"
   ]
  },
  {
   "cell_type": "markdown",
   "id": "9d3b82f4-f602-445e-80d4-0fef9b4824c8",
   "metadata": {},
   "source": [
    "### QUAL OS JOGOS MAIS VENDIDOS NOS MUNDIALMENTE?\n",
    "<ul>\n",
    "    <li>O JOIN na consulta visa o enriquecimento das infomações na consulta</li>\n",
    "</ul>"
   ]
  },
  {
   "cell_type": "code",
   "execution_count": 10,
   "id": "88a682dc-0372-4bc3-921c-535d1a3088ab",
   "metadata": {},
   "outputs": [
    {
     "name": "stdout",
     "output_type": "stream",
     "text": [
      "O jogo Wii Sports lançado em 2006 vendeu 82530000 de cópias\n",
      "O jogo Super Mario Bros. lançado em 1985 vendeu 40240000 de cópias\n",
      "O jogo Mario Kart Wii lançado em 2008 vendeu 35520000 de cópias\n",
      "O jogo Wii Sports Resort lançado em 2009 vendeu 32770000 de cópias\n",
      "O jogo Pokemon Red/Pokemon Blue lançado em 1996 vendeu 31370000 de cópias\n",
      "O jogo Tetris lançado em 1989 vendeu 30260000 de cópias\n",
      "O jogo New Super Mario Bros. lançado em 2006 vendeu 29800000 de cópias\n",
      "O jogo Wii Play lançado em 2006 vendeu 28920000 de cópias\n",
      "O jogo New Super Mario Bros. Wii lançado em 2009 vendeu 28320000 de cópias\n",
      "O jogo Duck Hunt lançado em 1984 vendeu 28310000 de cópias\n"
     ]
    }
   ],
   "source": [
    "pub_query = (\"SELECT g.nome, g.ano_lancamento, vg.quantidade FROM game g INNER JOIN vendas_global vg ON vg.game = g.id ORDER BY vg.quantidade DESC LIMIT 10;\")\n",
    "db_cursor.execute(pub_query)\n",
    "for result in db_cursor:\n",
    "    print(\"O jogo {} lançado em {} vendeu {} de cópias\". format(result[0], result[1], result[2]))"
   ]
  },
  {
   "cell_type": "markdown",
   "id": "526e5352-6d7b-4459-bd1d-27ab2a0ee048",
   "metadata": {},
   "source": [
    "#### QUAL OS JOGOS MAIS BEM AVALIADOS PELOS CRÍTICOS?\n",
    "<ul>\n",
    "    <li>O JOIN na consulta visa o enriquecimento das infomações na consulta</li>\n",
    "    <li>O ORDER BY é aplicado para que os mais bem avaliados sejam elencados no topo</li>\n",
    "</ul>"
   ]
  },
  {
   "cell_type": "code",
   "execution_count": 11,
   "id": "782e4d70-fc84-448f-8298-44ea702a4cb4",
   "metadata": {},
   "outputs": [
    {
     "name": "stdout",
     "output_type": "stream",
     "text": [
      "O jogo Grand Theft Auto IV recebeu a nota: 98 da critica especializada\n",
      "O jogo Grand Theft Auto IV recebeu a nota: 98 da critica especializada\n",
      "O jogo Tony Hawk's Pro Skater 2 recebeu a nota: 98 da critica especializada\n",
      "O jogo SpongeBob's Boating Bash recebeu a nota: 98 da critica especializada\n",
      "O jogo Grand Theft Auto V recebeu a nota: 97 da critica especializada\n",
      "O jogo Grand Theft Auto V recebeu a nota: 97 da critica especializada\n",
      "O jogo Grand Theft Auto III recebeu a nota: 97 da critica especializada\n",
      "O jogo Grand Theft Auto V recebeu a nota: 97 da critica especializada\n",
      "O jogo Super Mario Galaxy recebeu a nota: 97 da critica especializada\n",
      "O jogo Super Mario Galaxy 2 recebeu a nota: 97 da critica especializada\n"
     ]
    }
   ],
   "source": [
    "pub_query = (\"SELECT g.nome, nc.avaliacao FROM game g INNER JOIN notas_da_critica nc ON nc.game = g.id ORDER BY nc.avaliacao DESC LIMIT 10;\")\n",
    "db_cursor.execute(pub_query)\n",
    "for result in db_cursor:\n",
    "    print(\"O jogo {} recebeu a nota: {} da critica especializada\". format(result[0], result[1]))"
   ]
  },
  {
   "cell_type": "markdown",
   "id": "95559e72-aada-4194-87c9-04cc3cc62779",
   "metadata": {},
   "source": [
    "#### QUAL OS JOGOS MAIS BEM AVALIADOS PELOS USUÁRIOS?\n",
    "<ul>\n",
    "    <li>O JOIN na consulta visa o enriquecimento das infomações na consulta</li>\n",
    "    <li>O ORDER BY é aplicado para que os mais bem avaliados sejam elencados no topo</li>\n",
    "</ul>"
   ]
  },
  {
   "cell_type": "code",
   "execution_count": 12,
   "id": "c68965fd-33d9-4d8d-a9b0-00f02eb91023",
   "metadata": {},
   "outputs": [
    {
     "name": "stdout",
     "output_type": "stream",
     "text": [
      "O jogo Max Payne recebeu a nota: 10 dos usuários\n",
      "O jogo Naruto: The Broken Bond recebeu a nota: 10 dos usuários\n",
      "O jogo Capcom Classics Collection Remixed recebeu a nota: 10 dos usuários\n",
      "O jogo F1 2012 recebeu a nota: 10 dos usuários\n",
      "O jogo Where the Wild Things Are recebeu a nota: 10 dos usuários\n",
      "O jogo Crayon Shin-Chan Shokkugan! Densetsu o Yobu Omake Daiketsusen!! recebeu a nota: 10 dos usuários\n",
      "O jogo Sorcery Saga: The Curse of the Great Curry God recebeu a nota: 10 dos usuários\n",
      "O jogo Juggler DS recebeu a nota: 10 dos usuários\n",
      "O jogo WSC REAL 09: World Snooker Championship recebeu a nota: 10 dos usuários\n",
      "O jogo New Super Mario Bros. recebeu a nota: 9 dos usuários\n"
     ]
    }
   ],
   "source": [
    "pub_query = (\"SELECT g.nome, nu.avaliacao FROM game g INNER JOIN notas_dos_usuarios nu ON nu.game = g.id ORDER BY nu.avaliacao DESC LIMIT 10;\")\n",
    "db_cursor.execute(pub_query)\n",
    "for result in db_cursor:\n",
    "    print(\"O jogo {} recebeu a nota: {} dos usuários\". format(result[0], result[1]))"
   ]
  },
  {
   "cell_type": "markdown",
   "id": "c3cc937e-0f32-4384-a8d4-2c812543cc12",
   "metadata": {},
   "source": [
    "#### QUAL A MÉDIA DOS GENEROS MAIS BEM AVALIADOS?\n",
    "<ul>\n",
    "    <li>O AVG na consuta busca trazer a média das notas das critica para os jogos do genero em específico</li>\n",
    "    <li>O JOIN na consulta visa o enriquecimento das infomações na consulta</li>\n",
    "    <li>O ORDER BY é aplicado para que os mais bem avaliados sejam elencados no topo</li>\n",
    "</ul>"
   ]
  },
  {
   "cell_type": "code",
   "execution_count": 13,
   "id": "3e3d7dd1-4d85-4aea-b259-022365760c95",
   "metadata": {},
   "outputs": [
    {
     "name": "stdout",
     "output_type": "stream",
     "text": [
      "Os jogos do genero Shooter tem uma média de 71.10 da mídia especializada\n",
      "Os jogos do genero Platform tem uma média de 70.32 da mídia especializada\n",
      "Os jogos do genero Racing tem uma média de 69.72 da mídia especializada\n",
      "Os jogos do genero Sports tem uma média de 69.64 da mídia especializada\n",
      "Os jogos do genero Fighting tem uma média de 69.37 da mídia especializada\n",
      "Os jogos do genero Action tem uma média de 69.31 da mídia especializada\n",
      "Os jogos do genero Role-Playing tem uma média de 69.15 da mídia especializada\n",
      "Os jogos do genero Puzzle tem uma média de 68.33 da mídia especializada\n",
      "Os jogos do genero Simulation tem uma média de 67.84 da mídia especializada\n",
      "Os jogos do genero Misc tem uma média de 67.42 da mídia especializada\n"
     ]
    }
   ],
   "source": [
    "pub_query = (\"SELECT gd.nome, AVG(nc.avaliacao) media FROM game g INNER JOIN notas_da_critica nc ON nc.game = g.id INNER JOIN genero gd  ON gd.id = g.genero GROUP BY gd.nome ORDER BY media DESC LIMIT 10;\")\n",
    "db_cursor.execute(pub_query)\n",
    "for result in db_cursor:\n",
    "    print(\"Os jogos do genero {} tem uma média de {:.2f} da mídia especializada\". format(result[0], result[1]))"
   ]
  },
  {
   "cell_type": "markdown",
   "id": "b6ae3f20-cc33-4f98-aabb-101d5e676809",
   "metadata": {},
   "source": [
    "#### QUAL A QUANTIDADE DE JOGOS VENDIDOS MUNDIALMENTE, POR GENERO COM MÉDIAS DA CRÍTICA SUPERIORES A 73?\n",
    "\n",
    "<ul>\n",
    "    <li>A função SUM relazia a soma de todos os valores referentes a venda dos jogos de um genero específico.</li>\n",
    "    <li>O GROUP BY é usado para agragar os jogos do genero.</li>\n",
    "    <li>A clausula HAVING é usada para que a condição pudesse ser aplicada à função de agragação AVG</li>\n",
    "</ul>"
   ]
  },
  {
   "cell_type": "code",
   "execution_count": 14,
   "id": "6effa77f-050a-4bc2-ab2a-9a10833852e4",
   "metadata": {},
   "outputs": [
    {
     "name": "stdout",
     "output_type": "stream",
     "text": [
      "Os jogos do genero Platform vederam 391390000 cópias.\n",
      "Os jogos do genero Puzzle vederam 113990000 cópias.\n",
      "Os jogos do genero Shooter vederam 735240000 cópias.\n"
     ]
    }
   ],
   "source": [
    "pub_query = (\"SELECT gd.nome genero, sum(vg.quantidade) quantidade_vendida FROM genero gd  INNER JOIN game g ON g.genero = gd.id INNER JOIN notas_da_critica nc ON nc.game = g.id INNER JOIN vendas_global vg ON vg.game = g.id GROUP BY gd.id HAVING AVG(nc.avaliacao) > 73;\")\n",
    "db_cursor.execute(pub_query)\n",
    "for result in db_cursor:\n",
    "    print(\"Os jogos do genero {} vederam {} cópias.\". format(result[0], result[1]))"
   ]
  },
  {
   "cell_type": "markdown",
   "id": "2e2bb945-3826-4341-9d1e-3a05f2441649",
   "metadata": {},
   "source": [
    "#### QUAL A PLATAFORMA MAIS POPULAR? \n",
    "<ul>\n",
    "    <li>O COUNT foi utilizado para elencar quantos jogos foram lançados em cada plataforma.</li>\n",
    "</ul>"
   ]
  },
  {
   "cell_type": "code",
   "execution_count": 15,
   "id": "4f7188e9-fb97-4ff4-8ad8-82d93cd5494a",
   "metadata": {},
   "outputs": [
    {
     "name": "stdout",
     "output_type": "stream",
     "text": [
      "A plataforma PS2 tem 2160 jogos em sua biblioteca\n",
      "A plataforma DS tem 2147 jogos em sua biblioteca\n",
      "A plataforma PS3 tem 1331 jogos em sua biblioteca\n",
      "A plataforma Wii tem 1320 jogos em sua biblioteca\n",
      "A plataforma X360 tem 1262 jogos em sua biblioteca\n",
      "A plataforma PSP tem 1206 jogos em sua biblioteca\n",
      "A plataforma PS tem 1196 jogos em sua biblioteca\n",
      "A plataforma PC tem 974 jogos em sua biblioteca\n",
      "A plataforma XB tem 824 jogos em sua biblioteca\n",
      "A plataforma GBA tem 822 jogos em sua biblioteca\n",
      "A plataforma GC tem 556 jogos em sua biblioteca\n",
      "A plataforma 3DS tem 519 jogos em sua biblioteca\n",
      "A plataforma PSV tem 431 jogos em sua biblioteca\n",
      "A plataforma PS4 tem 393 jogos em sua biblioteca\n",
      "A plataforma N64 tem 319 jogos em sua biblioteca\n",
      "A plataforma XOne tem 247 jogos em sua biblioteca\n",
      "A plataforma SNES tem 239 jogos em sua biblioteca\n",
      "A plataforma SAT tem 173 jogos em sua biblioteca\n",
      "A plataforma WiiU tem 147 jogos em sua biblioteca\n",
      "A plataforma 2600 tem 133 jogos em sua biblioteca\n",
      "A plataforma NES tem 98 jogos em sua biblioteca\n",
      "A plataforma GB tem 98 jogos em sua biblioteca\n",
      "A plataforma DC tem 52 jogos em sua biblioteca\n",
      "A plataforma GEN tem 29 jogos em sua biblioteca\n",
      "A plataforma NG tem 12 jogos em sua biblioteca\n",
      "A plataforma SCD tem 6 jogos em sua biblioteca\n",
      "A plataforma WS tem 6 jogos em sua biblioteca\n",
      "A plataforma 3DO tem 3 jogos em sua biblioteca\n",
      "A plataforma TG16 tem 2 jogos em sua biblioteca\n",
      "A plataforma GG tem 1 jogos em sua biblioteca\n"
     ]
    }
   ],
   "source": [
    "pub_query = (\"SELECT p.nome, count(g.plataforma) as jogo_na_plataforma FROM game g INNER JOIN plataforma p ON p.id = g.plataforma GROUP BY g.plataforma ORDER BY jogo_na_plataforma DESC;\")\n",
    "db_cursor.execute(pub_query)\n",
    "for result in db_cursor:\n",
    "    print(\"A plataforma {} tem {} jogos em sua biblioteca\". format(result[0], result[1]))"
   ]
  },
  {
   "cell_type": "markdown",
   "id": "43094a33-bf6c-46b9-b9fd-8f74d942ff18",
   "metadata": {},
   "source": [
    "## Exibições"
   ]
  },
  {
   "cell_type": "markdown",
   "id": "045a0c7e-1faf-437c-873e-8db0ec5bc088",
   "metadata": {},
   "source": [
    "#### É a exibição da quantidade de jogos lançados por ano"
   ]
  },
  {
   "cell_type": "code",
   "execution_count": 16,
   "id": "e1bfb25d-16a1-46b9-ab22-3fd985c89587",
   "metadata": {},
   "outputs": [
    {
     "data": {
      "text/plain": [
       "<BarContainer object of 39 artists>"
      ]
     },
     "execution_count": 16,
     "metadata": {},
     "output_type": "execute_result"
    },
    {
     "data": {
      "image/png": "[encoded data removed]",
      "text/plain": [
       "<Figure size 640x480 with 1 Axes>"
      ]
     },
     "metadata": {
      "needs_background": "light"
     },
     "output_type": "display_data"
    }
   ],
   "source": [
    "total = pd.read_sql(\"SELECT ano_lancamento,  COUNT(id) as jogos_lancados FROM game GROUP BY ano_lancamento ORDER BY ano_lancamento\", db_connection)\n",
    "total = total.drop(0)\n",
    "figure(figsize=(8, 6), dpi=80)\n",
    "plt.bar(total.ano_lancamento, total.jogos_lancados)"
   ]
  },
  {
   "cell_type": "markdown",
   "id": "c66d7eaa-11a2-4917-afc2-4efebae6be13",
   "metadata": {},
   "source": [
    "#### A soma de jogos vendidos a decorrer dos anos"
   ]
  },
  {
   "cell_type": "code",
   "execution_count": 17,
   "id": "219202ba-77b8-4ad4-bd59-9a4536ac6e20",
   "metadata": {},
   "outputs": [
    {
     "data": {
      "text/plain": [
       "[<matplotlib.lines.Line2D at 0x7f25d4c98bb0>]"
      ]
     },
     "execution_count": 17,
     "metadata": {},
     "output_type": "execute_result"
    },
    {
     "data": {
      "image/png": "[encoded data removed]",
      "text/plain": [
       "<Figure size 640x480 with 1 Axes>"
      ]
     },
     "metadata": {
      "needs_background": "light"
     },
     "output_type": "display_data"
    }
   ],
   "source": [
    "media_genero_ano = pd.read_sql(\"SELECT ano_lancamento, SUM(vg.quantidade) as quantidade FROM game g INNER JOIN vendas_global vg ON vg.game = g.id GROUP BY ano_lancamento ORDER BY ano_lancamento;\", db_connection)\n",
    "media_genero_ano = media_genero_ano[media_genero_ano['ano_lancamento'] != 0]\n",
    "figure(figsize=(8, 6), dpi=80)\n",
    "plt.plot(media_genero_ano['ano_lancamento'], media_genero_ano['quantidade'])"
   ]
  },
  {
   "cell_type": "code",
   "execution_count": null,
   "id": "80bcd7e1-d59a-4beb-964b-9f5e7467cca6",
   "metadata": {},
   "outputs": [],
   "source": []
  }
 ],
 "metadata": {
  "kernelspec": {
   "display_name": "Python 3 (ipykernel)",
   "language": "python",
   "name": "python3"
  },
  "language_info": {
   "codemirror_mode": {
    "name": "ipython",
    "version": 3
   },
   "file_extension": ".py",
   "mimetype": "text/x-python",
   "name": "python",
   "nbconvert_exporter": "python",
   "pygments_lexer": "ipython3",
   "version": "3.9.6"
  }
 },
 "nbformat": 4,
 "nbformat_minor": 5
}
